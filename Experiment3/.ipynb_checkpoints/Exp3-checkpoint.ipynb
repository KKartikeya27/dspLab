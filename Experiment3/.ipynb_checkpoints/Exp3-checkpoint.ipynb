{
 "cells": [
  {
   "cell_type": "code",
   "execution_count": 1,
   "id": "202740fc",
   "metadata": {},
   "outputs": [
    {
     "name": "stdout",
     "output_type": "stream",
     "text": [
      "DIF FFT =[10.+0.j -2.+2.j -2.+0.j -2.-2.j]\n",
      "DFT=   [10.+0.j -2.+2.j -2.+0.j -2.-2.j]\n"
     ]
    }
   ],
   "source": [
    "import numpy as np\n",
    "\n",
    "def dif_fft(x):\n",
    "    N = len(x)\n",
    "    if N == 1:\n",
    "        return x\n",
    "    \n",
    "    \n",
    "    X_even = dif_fft( x[0::2])\n",
    "    X_odd = dif_fft(x[1::2])\n",
    "    t = [np.exp(-2j * np.pi*k/ N) * X_odd[k] for k in range(N//2)]\n",
    "    X = np.zeros(N, dtype=complex)\n",
    "\n",
    "    for k in range(N//2):\n",
    "        \n",
    "        X[k] = X_even[k] + t[k]\n",
    "        X[k + N//2] = X_even[k] - t[k]\n",
    "    return np.round(X)\n",
    "\n",
    "x=[1,2,3,4]\n",
    "print(f'DIF FFT ={dif_fft(x)}')\n",
    "print(f'DFT=   {np.fft.fft(x)}')\n"
   ]
  },
  {
   "cell_type": "code",
   "execution_count": 2,
   "id": "ea61d844",
   "metadata": {},
   "outputs": [
    {
     "name": "stdout",
     "output_type": "stream",
     "text": [
      "DIT FFT = [10.+0.j -2.+2.j -2.+0.j -2.-2.j]\n",
      "DFT=   [10.+0.j -2.+2.j -2.+0.j -2.-2.j]\n"
     ]
    }
   ],
   "source": [
    "import numpy as np\n",
    "\n",
    "def dit_fft(x):\n",
    "    N=len(x)\n",
    "    if N==1:\n",
    "        return x\n",
    "    even=dit_fft(x[0::2])\n",
    "    odd=dit_fft(x[1::2])\n",
    "    X=np.zeros(N,dtype=complex)\n",
    "    for k in range(N//2):\n",
    "        Wn=np.exp(-2j*np.pi*k/N)\n",
    "        X[k]=even[k]+ Wn*odd[k]\n",
    "        X[k+N//2]= even[k]- Wn*odd[k]\n",
    "    return X\n",
    "\n",
    "x=[1,2,3,4]\n",
    "\n",
    "print(f'DIT FFT = {dit_fft(x)}')\n",
    "print(f'DFT=   {np.fft.fft(x)}')\n"
   ]
  },
  {
   "cell_type": "code",
   "execution_count": 23,
   "id": "3b015e7c",
   "metadata": {},
   "outputs": [
    {
     "name": "stdout",
     "output_type": "stream",
     "text": [
      "Poles:  [-2.+1.41421356j -2.-1.41421356j]\n",
      "Zeros:  [-3. -2.]\n"
     ]
    },
    {
     "data": {
      "image/png": "[encoded data removed]",
      "text/plain": [
       "<Figure size 432x288 with 1 Axes>"
      ]
     },
     "metadata": {
      "needs_background": "light"
     },
     "output_type": "display_data"
    }
   ],
   "source": [
    "import numpy as np\n",
    "import matplotlib.pyplot as plt\n",
    "from scipy.signal import tf2zpk\n",
    "\n",
    "a = [1, 5, 6]\n",
    "b = [1, 4, 6]\n",
    "\n",
    "zeros, poles, gain = tf2zpk(a, b)\n",
    "\n",
    "print(\"Poles: \", poles)\n",
    "print(\"Zeros: \", zeros)\n",
    "\n",
    "\n",
    "plt.figure()\n",
    "plt.title(\"Pole-Zero Plot\")\n",
    "plt.scatter(np.real(poles), np.imag(poles), marker='x', color='r', label='Poles')\n",
    "plt.scatter(np.real(zeros), np.imag(zeros), marker='o', color='b', label='Zeros')\n",
    "plt.Circle((0,0),1,fill=False)\n",
    "plt.legend()\n",
    "plt.grid()\n",
    "plt.xlabel('Real')\n",
    "plt.ylabel('Imaginary')\n",
    "plt.show()\n"
   ]
  },
  {
   "cell_type": "code",
   "execution_count": 5,
   "id": "030790e5",
   "metadata": {},
   "outputs": [
    {
     "name": "stdout",
     "output_type": "stream",
     "text": [
      "Numerator:  [ 3.9   -9.36  -0.663 -1.014  0.585]\n",
      "Denominator:  [ 1.        -0.95       0.2475     0.680625  -0.3459375]\n"
     ]
    }
   ],
   "source": [
    "from scipy.signal import zpk2tf\n",
    "\n",
    "zeros =[0.3,2.5,-0.2+0.4j,-0.2-0.4j]\n",
    "poles = [0.5,-0.75,0.6+0.75j,0.6-0.75j]\n",
    "k = 3.9\n",
    "\n",
    "num, den = zpk2tf(zeros, poles, k)\n",
    "\n",
    "print(\"Numerator: \", num)\n",
    "print(\"Denominator: \", den)"
   ]
  },
  {
   "cell_type": "code",
   "execution_count": 20,
   "id": "98dfd65c",
   "metadata": {
    "scrolled": true
   },
   "outputs": [
    {
     "name": "stdout",
     "output_type": "stream",
     "text": [
      "Residues:  [-0.5  1.5]\n",
      "Poles:  [1. 3.]\n",
      "1.0 0 -0.4999999999999999\n",
      "3.0 1 1.4999999999999998\n",
      "Closed Form:  [1.0000e+00 4.0000e+00 1.3000e+01 4.0000e+01 1.2100e+02 3.6400e+02\n",
      " 1.0930e+03 3.2800e+03 9.8410e+03 2.9524e+04]\n"
     ]
    }
   ],
   "source": [
    "from scipy.signal import residuez\n",
    "from scipy.signal import impulse\n",
    "import numpy as np\n",
    "\n",
    "num = [1]\n",
    "den = [1, -4, 3]\n",
    "\n",
    "# partial fraction expansion \n",
    "r, p, k = residuez(num, den)\n",
    "print(\"Residues: \", r)\n",
    "print(\"Poles: \", p)\n",
    "\n",
    "closed_form = np.zeros(10)\n",
    "for i, pole in enumerate(p):\n",
    "    closed_form += r[i] * (pole**np.arange(10))\n",
    "    print(pole, i, r[i])\n",
    "print(\"Closed Form: \", closed_form)\n"
   ]
  },
  {
   "cell_type": "code",
   "execution_count": 16,
   "id": "efae14a8",
   "metadata": {},
   "outputs": [
    {
     "name": "stdout",
     "output_type": "stream",
     "text": [
      "<enumerate object at 0x000002183327B980>\n"
     ]
    }
   ],
   "source": [
    "\n"
   ]
  }
 ],
 "metadata": {
  "kernelspec": {
   "display_name": "Python 3 (ipykernel)",
   "language": "python",
   "name": "python3"
  },
  "language_info": {
   "codemirror_mode": {
    "name": "ipython",
    "version": 3
   },
   "file_extension": ".py",
   "mimetype": "text/x-python",
   "name": "python",
   "nbconvert_exporter": "python",
   "pygments_lexer": "ipython3",
   "version": "3.9.6"
  }
 },
 "nbformat": 4,
 "nbformat_minor": 5
}
