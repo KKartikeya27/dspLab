{
 "cells": [
  {
   "cell_type": "code",
   "execution_count": 1,
   "id": "8a795565",
   "metadata": {
    "id": "8a795565"
   },
   "outputs": [],
   "source": [
    "import numpy as np\n",
    "import matplotlib.pyplot as plt\n",
    "import math as math\n",
    "import cmath as cm\n",
    "from scipy.signal import freqz"
   ]
  },
  {
   "cell_type": "markdown",
   "id": "c_kwRPHD-Unp",
   "metadata": {
    "id": "c_kwRPHD-Unp"
   },
   "source": [
    "Question 1\n",
    "Part a"
   ]
  },
  {
   "cell_type": "code",
   "execution_count": 2,
   "id": "Bir-oZtv2SU1",
   "metadata": {
    "colab": {
     "base_uri": "https://localhost:8080/"
    },
    "id": "Bir-oZtv2SU1",
    "outputId": "6225d033-1970-4986-dd94-9790ac629b5b"
   },
   "outputs": [
    {
     "name": "stdout",
     "output_type": "stream",
     "text": [
      "[1, 2, 3, 4, 5, 10, 1, 2, 9, 5]\n"
     ]
    },
    {
     "data": {
      "text/plain": [
       "array([-3.14159265, -2.98451302, -2.82743339, -2.67035376, -2.51327412,\n",
       "       -2.35619449, -2.19911486, -2.04203522, -1.88495559, -1.72787596,\n",
       "       -1.57079633, -1.41371669, -1.25663706, -1.09955743, -0.9424778 ,\n",
       "       -0.78539816, -0.62831853, -0.4712389 , -0.31415927, -0.15707963,\n",
       "        0.        ,  0.15707963,  0.31415927,  0.4712389 ,  0.62831853,\n",
       "        0.78539816,  0.9424778 ,  1.09955743,  1.25663706,  1.41371669,\n",
       "        1.57079633,  1.72787596,  1.88495559,  2.04203522,  2.19911486,\n",
       "        2.35619449,  2.51327412,  2.67035376,  2.82743339,  2.98451302])"
      ]
     },
     "execution_count": 2,
     "metadata": {},
     "output_type": "execute_result"
    }
   ],
   "source": [
    "n = 10   #Time points\n",
    "nf = 40 #Frequency points\n",
    "\n",
    "w_start = -math.pi\n",
    "w_end = math.pi\n",
    "\n",
    "x = [1, 2, 3, 4, 5, 10, 1, 2, 9, 5]\n",
    "print(x)\n",
    "freqPts = np.arange(w_start, w_end, (w_end - w_start)/nf)\n",
    "freqPts"
   ]
  },
  {
   "cell_type": "code",
   "execution_count": 3,
   "id": "K8oiO8xd23sg",
   "metadata": {
    "id": "K8oiO8xd23sg"
   },
   "outputs": [],
   "source": [
    "def dtft(x,freqPts):\n",
    "    output = [0]*freqPts.__len__()\n",
    "    for k in range(freqPts.__len__()):  \n",
    "        for t in range(n): \n",
    "            output[k] += x[t] * cm.exp(-1j * freqPts[k] * t)\n",
    "    return output"
   ]
  },
  {
   "cell_type": "code",
   "execution_count": 4,
   "id": "0wIHNhV985Vd",
   "metadata": {
    "id": "0wIHNhV985Vd"
   },
   "outputs": [],
   "source": [
    "def magnitude(inp):\n",
    "    N = inp.__len__()\n",
    "    output = [0]*N\n",
    "    for k in range(N):\n",
    "        output[k]= math.sqrt(inp[k].real**2 + inp[k].imag**2)\n",
    "    return output"
   ]
  },
  {
   "cell_type": "code",
   "execution_count": 5,
   "id": "VtZOjicdBOCJ",
   "metadata": {
    "id": "VtZOjicdBOCJ"
   },
   "outputs": [],
   "source": [
    "def phase(inp):\n",
    "    N = inp.__len__()\n",
    "    output = [0]*N\n",
    "    for k in range(N):\n",
    "        output[k]= math.atan2(inp[k].imag,inp[k].real)\n",
    "    return output"
   ]
  },
  {
   "cell_type": "code",
   "execution_count": 6,
   "id": "hCabLeRz28KF",
   "metadata": {
    "colab": {
     "base_uri": "https://localhost:8080/"
    },
    "id": "hCabLeRz28KF",
    "outputId": "f196b934-d009-4879-d29b-911927b51e03"
   },
   "outputs": [
    {
     "data": {
      "text/plain": [
       "[(-4+2.326828918379971e-15j),\n",
       " (-3.033431192062262+2.6858506066380183j),\n",
       " (-0.9404349444493789+4.257458801593723j),\n",
       " (1.8947074025488293+4.960617334359528j),\n",
       " (6.04508497187474+3.493955364313913j),\n",
       " (8.535533905932734-2.7071067811865555j),\n",
       " (3.2835027782176227-10.368745754912698j),\n",
       " (-8.524668919934165-9.4802211078134j),\n",
       " (-14.163118960624631+3.3021975254650515j),\n",
       " (-4.339120277515358+15.118976652643312j),\n",
       " (11.000000000000005+10.999999999999995j),\n",
       " (13.10968651765803-4.405757208594618j),\n",
       " (0.45491502812525786-11.359677632405859j),\n",
       " (-8.752405403728892-2.938515774500834j),\n",
       " (-4.047434800717829+5.40318760866132j),\n",
       " (1.4644660940672614+1.2928932188134512j),\n",
       " (-6.3368810393753705-3.216440812888141j),\n",
       " (-15.922584763882824+9.363183911046118j),\n",
       " (-4.295633033050406+29.776983052154915j),\n",
       " (25.567816636916668+29.154856377875085j),\n",
       " (42+0j),\n",
       " (25.567816636916668-29.154856377875085j),\n",
       " (-4.295633033050406-29.776983052154915j),\n",
       " (-15.922584763882824-9.363183911046118j),\n",
       " (-6.3368810393753705+3.216440812888141j),\n",
       " (1.4644660940672614-1.2928932188134512j),\n",
       " (-4.047434800717829-5.40318760866132j),\n",
       " (-8.752405403728892+2.938515774500834j),\n",
       " (0.45491502812525786+11.359677632405859j),\n",
       " (13.10968651765803+4.405757208594618j),\n",
       " (11.000000000000005-10.999999999999995j),\n",
       " (-4.339120277515358-15.118976652643312j),\n",
       " (-14.163118960624631-3.3021975254650515j),\n",
       " (-8.524668919934165+9.4802211078134j),\n",
       " (3.2835027782176227+10.368745754912698j),\n",
       " (8.535533905932734+2.7071067811865555j),\n",
       " (6.04508497187474-3.493955364313913j),\n",
       " (1.8947074025488293-4.960617334359528j),\n",
       " (-0.9404349444493789-4.257458801593723j),\n",
       " (-3.033431192062262-2.6858506066380183j)]"
      ]
     },
     "execution_count": 6,
     "metadata": {},
     "output_type": "execute_result"
    }
   ],
   "source": [
    "Xf = dtft(x, freqPts)\n",
    "Xf"
   ]
  },
  {
   "cell_type": "code",
   "execution_count": 7,
   "id": "M0toJlPY699v",
   "metadata": {
    "colab": {
     "base_uri": "https://localhost:8080/",
     "height": 279
    },
    "id": "M0toJlPY699v",
    "outputId": "75b8c608-47f7-4d5d-8981-659fac7102f4"
   },
   "outputs": [
    {
     "data": {
      "image/png": "[encoded data removed]",
      "text/plain": [
       "<Figure size 432x288 with 2 Axes>"
      ]
     },
     "metadata": {
      "needs_background": "light"
     },
     "output_type": "display_data"
    }
   ],
   "source": [
    "plt.figure(1)\n",
    "plt.subplot(2,1,1)\n",
    "plt.plot(freqPts,magnitude(Xf))\n",
    "plt.xlabel('$\\omega$')\n",
    "plt.ylabel('$|X(e^{j\\omega})|$')\n",
    "plt.grid()\n",
    "\n",
    "plt.figure(1)\n",
    "plt.subplot(2,1,2)\n",
    "plt.plot(freqPts,phase(Xf))\n",
    "plt.xlabel('$\\omega$')\n",
    "plt.ylabel('$Phase X(e^{j\\omega})|$')\n",
    "plt.grid()"
   ]
  },
  {
   "cell_type": "markdown",
   "id": "jl2ZXJKI-cd2",
   "metadata": {
    "id": "jl2ZXJKI-cd2"
   },
   "source": [
    "Question 1\n",
    "Part b"
   ]
  },
  {
   "cell_type": "code",
   "execution_count": 8,
   "id": "NoA3G_hb-Plp",
   "metadata": {
    "colab": {
     "base_uri": "https://localhost:8080/"
    },
    "id": "NoA3G_hb-Plp",
    "outputId": "b7e06bb2-fd8d-4d6e-d046-f7336e61457e"
   },
   "outputs": [
    {
     "name": "stdout",
     "output_type": "stream",
     "text": [
      "[1, 2, 3, 4, 5, 10, 1, 2, 9, 5]\n"
     ]
    },
    {
     "data": {
      "text/plain": [
       "array([0.        , 0.07853982, 0.15707963, 0.23561945, 0.31415927,\n",
       "       0.39269908, 0.4712389 , 0.54977871, 0.62831853, 0.70685835,\n",
       "       0.78539816, 0.86393798, 0.9424778 , 1.02101761, 1.09955743,\n",
       "       1.17809725, 1.25663706, 1.33517688, 1.41371669, 1.49225651,\n",
       "       1.57079633, 1.64933614, 1.72787596, 1.80641578, 1.88495559,\n",
       "       1.96349541, 2.04203522, 2.12057504, 2.19911486, 2.27765467,\n",
       "       2.35619449, 2.43473431, 2.51327412, 2.59181394, 2.67035376,\n",
       "       2.74889357, 2.82743339, 2.9059732 , 2.98451302, 3.06305284])"
      ]
     },
     "execution_count": 8,
     "metadata": {},
     "output_type": "execute_result"
    }
   ],
   "source": [
    "n = 10   #Time points\n",
    "nf = 40 #Frequency points\n",
    "\n",
    "w_start = 0\n",
    "w_end = math.pi\n",
    "\n",
    "x = [1, 2, 3, 4, 5, 10, 1, 2, 9, 5]\n",
    "print(x)\n",
    "freqPts = np.arange(w_start, w_end, (w_end - w_start)/nf)\n",
    "freqPts"
   ]
  },
  {
   "cell_type": "code",
   "execution_count": 9,
   "id": "a9uRzr2d-7cV",
   "metadata": {
    "id": "a9uRzr2d-7cV"
   },
   "outputs": [],
   "source": [
    "def dtft1(x,freqPts):\n",
    "    output = [0]*freqPts.__len__()\n",
    "    for k in range(freqPts.__len__()): \n",
    "      W =  cm.exp(-1j * freqPts[k])\n",
    "      W2 = cm.exp(-1j * freqPts[k] * 2)\n",
    "      output[k] = (1 + W)/(1 + 0.8*W + 0.64*W2)\n",
    "    return output"
   ]
  },
  {
   "cell_type": "code",
   "execution_count": 10,
   "id": "-2rLTpQAAnrS",
   "metadata": {
    "colab": {
     "base_uri": "https://localhost:8080/"
    },
    "id": "-2rLTpQAAnrS",
    "outputId": "ec75f7ab-cda7-4889-a1ef-32c183d7cbdc"
   },
   "outputs": [
    {
     "data": {
      "text/plain": [
       "[(0.819672131147541+0j),\n",
       " (0.8203713580761675+0.022705849438625123j),\n",
       " (0.8224827497563217+0.04550573906413985j),\n",
       " (0.8260480530919296+0.06849497855161353j),\n",
       " (0.8311389426707647+0.09177141746747296j),\n",
       " (0.8378603429739131+0.11543671002856862j),\n",
       " (0.8463554574731249+0.139597550342993j),\n",
       " (0.8568129399782047+0.1643668215720153j),\n",
       " (0.8694768613939406+0.18986454378454704j),\n",
       " (0.8846604358400647+0.21621840110013094j),\n",
       " (0.9027649266050223+0.24356344314111514j),\n",
       " (0.924305837851175+0.27204022201455047j),\n",
       " (0.9499495456699582+0.3017900172406483j),\n",
       " (0.9805651473011655+0.3329446712858156j),\n",
       " (1.01729885738995+0.36560641843525593j),\n",
       " (1.0616823051533373+0.39980893976210874j),\n",
       " (1.11579240936766+0.43544261313313337j),\n",
       " (1.1824901665673984+0.4721099887656411j),\n",
       " (1.2657791944005412+0.5088417303578443j),\n",
       " (1.3713386278946333+0.5435253629269168j),\n",
       " (1.507276507276507+0.5717255717255717j),\n",
       " (1.6850201311663093+0.5841862545679556j),\n",
       " (1.9196149002868046+0.5614803662931352j),\n",
       " (2.226089626810445+0.4629518650426245j),\n",
       " (2.5995755710280557+0.20808461553874827j),\n",
       " (2.947828191616794-0.3280653529857911j),\n",
       " (2.982911164184155-1.1865184047355284j),\n",
       " (2.4067246666081035-2.001751049252622j),\n",
       " (1.5041938170094147-2.2621902188236205j),\n",
       " (0.7935194132652273-2.049014483397459j),\n",
       " (0.38454163975584255-1.6938962493909877j),\n",
       " (0.17572525899254257-1.3607913580744886j),\n",
       " (0.07375364466710095-1.0861654460286985j),\n",
       " (0.02570521522485746-0.8651806526247199j),\n",
       " (0.004583636729761638-0.6854304518026705j),\n",
       " (-0.0032383111645213707-0.5357238353231543j),\n",
       " (-0.004761141102149136-0.40744153601505556j),\n",
       " (-0.0036618667097315463-0.2941449974332166j),\n",
       " (-0.001900577803448379-0.19094877214069578j),\n",
       " (-0.0005125962946409575-0.09398658351734916j)]"
      ]
     },
     "execution_count": 10,
     "metadata": {},
     "output_type": "execute_result"
    }
   ],
   "source": [
    "Xf = dtft1(x, freqPts)\n",
    "Xf"
   ]
  },
  {
   "cell_type": "code",
   "execution_count": 11,
   "id": "0eCQQJHnAr3a",
   "metadata": {
    "colab": {
     "base_uri": "https://localhost:8080/",
     "height": 279
    },
    "id": "0eCQQJHnAr3a",
    "outputId": "27c8df0f-4c39-49d7-b492-13430302805d"
   },
   "outputs": [
    {
     "data": {
      "image/png": "[encoded data removed]",
      "text/plain": [
       "<Figure size 432x288 with 2 Axes>"
      ]
     },
     "metadata": {
      "needs_background": "light"
     },
     "output_type": "display_data"
    }
   ],
   "source": [
    "plt.figure(1)\n",
    "plt.subplot(2,1,1)\n",
    "plt.plot(freqPts,magnitude(Xf))\n",
    "plt.xlabel('$\\omega$')\n",
    "plt.ylabel('$|X(e^{j\\omega})|$')\n",
    "plt.grid()\n",
    "\n",
    "plt.figure(1)\n",
    "plt.subplot(2,1,2)\n",
    "plt.plot(freqPts,phase(Xf))\n",
    "plt.xlabel('$\\omega$')\n",
    "plt.ylabel('$Phase X(e^{j\\omega})|$')\n",
    "plt.grid()"
   ]
  },
  {
   "cell_type": "markdown",
   "id": "V_GG6a7gDXcH",
   "metadata": {
    "id": "V_GG6a7gDXcH"
   },
   "source": [
    "Question 1 Part c"
   ]
  },
  {
   "cell_type": "code",
   "execution_count": 12,
   "id": "YEAiv5bLDaj4",
   "metadata": {
    "colab": {
     "base_uri": "https://localhost:8080/"
    },
    "id": "YEAiv5bLDaj4",
    "outputId": "c3995d39-d312-45c0-fc2c-004b79188728"
   },
   "outputs": [
    {
     "name": "stdout",
     "output_type": "stream",
     "text": [
      "[1.0, 0.30901699437494745, -0.8090169943749473, -0.8090169943749476, 0.30901699437494723, 1.0, 0.30901699437494773, -0.8090169943749472, -0.8090169943749477, 0.309016994374947, 1.0, 0.30901699437494795, -0.8090169943749471, -0.8090169943749478, 0.3090169943749468]\n"
     ]
    }
   ],
   "source": [
    "nf = 200 #Frequency points\n",
    "\n",
    "w_start = -math.pi\n",
    "w_end = math.pi\n",
    "\n",
    "n = 15   #Time points\n",
    "x = [0]*n\n",
    "for t in range(n):\n",
    "  x[t] = math.cos(0.4 * math.pi * t)\n",
    "\n",
    "print(x)\n",
    "\n",
    "freqPts = np.arange(w_start, w_end, (w_end - w_start)/nf)"
   ]
  },
  {
   "cell_type": "code",
   "execution_count": 13,
   "id": "iC2aLrFfDW-h",
   "metadata": {
    "id": "iC2aLrFfDW-h"
   },
   "outputs": [],
   "source": [
    "Xf = dtft1(x,freqPts)\n"
   ]
  },
  {
   "cell_type": "code",
   "execution_count": 14,
   "id": "GsBOh_vVGWtY",
   "metadata": {
    "colab": {
     "base_uri": "https://localhost:8080/",
     "height": 279
    },
    "id": "GsBOh_vVGWtY",
    "outputId": "2f55cabe-cb08-4555-a136-6b36c77523f8"
   },
   "outputs": [
    {
     "data": {
      "image/png": "[encoded data removed]",
      "text/plain": [
       "<Figure size 432x288 with 2 Axes>"
      ]
     },
     "metadata": {
      "needs_background": "light"
     },
     "output_type": "display_data"
    }
   ],
   "source": [
    "plt.figure(1)\n",
    "plt.subplot(2,1,1)\n",
    "plt.plot(freqPts,magnitude(Xf))\n",
    "plt.xlabel('$\\omega$')\n",
    "plt.ylabel('$|X(e^{j\\omega})|$')\n",
    "plt.grid()\n",
    "\n",
    "plt.figure(1)\n",
    "plt.subplot(2,1,2)\n",
    "plt.plot(freqPts,phase(Xf))\n",
    "plt.xlabel('$\\omega$')\n",
    "plt.ylabel('$Phase X(e^{j\\omega})|$')\n",
    "plt.grid()"
   ]
  },
  {
   "cell_type": "code",
   "execution_count": 15,
   "id": "RChalgtKGZDg",
   "metadata": {
    "colab": {
     "base_uri": "https://localhost:8080/"
    },
    "id": "RChalgtKGZDg",
    "outputId": "5ffa1a8b-c53c-4a98-e67c-6b2c7d343d05"
   },
   "outputs": [
    {
     "name": "stdout",
     "output_type": "stream",
     "text": [
      "[1.0, 0.30901699437494745, -0.8090169943749473, -0.8090169943749476, 0.30901699437494723, 1.0, 0.30901699437494773, -0.8090169943749472, -0.8090169943749477, 0.309016994374947, 1.0, 0.30901699437494795, -0.8090169943749471, -0.8090169943749478, 0.3090169943749468, 1.0, 0.3090169943749482, -0.8090169943749469, -0.8090169943749479, 0.30901699437494656, 1.0, 0.3090169943749484, -0.8090169943749468, -0.8090169943749481, 0.3090169943749463, 1.0, 0.3090169943749486, -0.8090169943749467, -0.8090169943749482, 0.30901699437494606, 1.0, 0.3090169943749489, -0.8090169943749465, -0.8090169943749483, 0.30901699437494584, 1.0, 0.3090169943749491, -0.8090169943749463, -0.8090169943749486, 0.3090169943749456, 1.0, 0.30901699437494934, -0.8090169943749462, -0.8090169943749487, 0.3090169943749454, 1.0, 0.30901699437494956, -0.8090169943749461, -0.8090169943749488, 0.3090169943749451, 1.0, 0.30901699437495656, -0.8090169943749459, -0.8090169943749448, 0.3090169943749449, 1.0, 0.30901699437495006, -0.80901699437495, -0.8090169943749491, 0.3090169943749379, 1.0, 0.3090169943749435, -0.8090169943749457]\n"
     ]
    }
   ],
   "source": [
    "n = 63  #Time points\n",
    "x = [0]*n\n",
    "for t in range(n):\n",
    "  x[t] = math.cos(0.4 * math.pi * t)\n",
    "print(x)"
   ]
  },
  {
   "cell_type": "code",
   "execution_count": 16,
   "id": "XhTmuyVtGemb",
   "metadata": {
    "id": "XhTmuyVtGemb"
   },
   "outputs": [],
   "source": [
    "Xf = dtft1(x,freqPts)\n"
   ]
  },
  {
   "cell_type": "code",
   "execution_count": 17,
   "id": "lEcS-31NGfQZ",
   "metadata": {
    "colab": {
     "base_uri": "https://localhost:8080/",
     "height": 279
    },
    "id": "lEcS-31NGfQZ",
    "outputId": "e41e3c46-0eeb-4e20-e87d-288b4c6fdc95"
   },
   "outputs": [
    {
     "data": {
      "image/png": "[encoded data removed]",
      "text/plain": [
       "<Figure size 432x288 with 2 Axes>"
      ]
     },
     "metadata": {
      "needs_background": "light"
     },
     "output_type": "display_data"
    }
   ],
   "source": [
    "plt.figure(1)\n",
    "plt.subplot(2,1,1)\n",
    "plt.plot(freqPts,magnitude(Xf))\n",
    "plt.xlabel('$\\omega$')\n",
    "plt.ylabel('$|X(e^{j\\omega})|$')\n",
    "plt.grid()\n",
    "\n",
    "plt.figure(1)\n",
    "plt.subplot(2,1,2)\n",
    "plt.plot(freqPts,phase(Xf))\n",
    "plt.xlabel('$\\omega$')\n",
    "plt.ylabel('$Phase X(e^{j\\omega})|$')\n",
    "plt.grid()"
   ]
  },
  {
   "cell_type": "markdown",
   "id": "kW7iltrRKrhl",
   "metadata": {
    "id": "kW7iltrRKrhl"
   },
   "source": [
    "Question 1 Part d"
   ]
  },
  {
   "cell_type": "code",
   "execution_count": 27,
   "id": "tFB7sqDGKuou",
   "metadata": {
    "id": "tFB7sqDGKuou"
   },
   "outputs": [],
   "source": [
    "L=2 #L-point filter\n",
    "b = (np.ones(L))/L #numerator co-effs of filter transfer function\n",
    "a = np.ones(1)  \n",
    "\n",
    "w, h = freqz(b,a)"
   ]
  },
  {
   "cell_type": "code",
   "execution_count": 28,
   "id": "Q1A79frTMeok",
   "metadata": {
    "colab": {
     "base_uri": "https://localhost:8080/",
     "height": 179
    },
    "id": "Q1A79frTMeok",
    "outputId": "34a5563b-398a-4781-de37-eca1a2698307"
   },
   "outputs": [
    {
     "data": {
      "text/plain": [
       "Text(0.5, 0, 'Frequency [rad/sample]')"
      ]
     },
     "execution_count": 28,
     "metadata": {},
     "output_type": "execute_result"
    },
    {
     "data": {
      "image/png": "[encoded data removed]",
      "text/plain": [
       "<Figure size 432x288 with 1 Axes>"
      ]
     },
     "metadata": {
      "needs_background": "light"
     },
     "output_type": "display_data"
    }
   ],
   "source": [
    "plt.subplot(2, 1, 1)\n",
    "plt.plot(w, 20 * np.log10(abs(h)))\n",
    "plt.ylabel('Magnitude [dB]')\n",
    "plt.xlabel('Frequency [rad/sample]')"
   ]
  },
  {
   "cell_type": "markdown",
   "id": "2V3efeovqkkC",
   "metadata": {
    "id": "2V3efeovqkkC"
   },
   "source": [
    "Question 2 Part 1"
   ]
  },
  {
   "cell_type": "code",
   "execution_count": null,
   "id": "VUrd8hBSqvdF",
   "metadata": {
    "id": "VUrd8hBSqvdF"
   },
   "outputs": [],
   "source": [
    "def dft(x):\n",
    "    #Linear transformation using W matrix for an N point DFT\n",
    "    N2 = x.__len__()\n",
    "    x = np.array(x)\n",
    "    #the twiddle factor\n",
    "    W=[[0 + 0j]*N2]*N2\n",
    "    W = np.array(W)\n",
    "    #creating the W matrix\n",
    "    for k in range(N2):\n",
    "     for n in range(N2):\n",
    "      m = cm.exp(-1j * 2 * math.pi / N2 * k * n)\n",
    "      W[k][n] = m\n",
    "\n",
    "    X=np.matmul(W, np.transpose(x))\n",
    "    return X"
   ]
  },
  {
   "cell_type": "code",
   "execution_count": null,
   "id": "BPgWLCvbtKtW",
   "metadata": {
    "colab": {
     "base_uri": "https://localhost:8080/"
    },
    "id": "BPgWLCvbtKtW",
    "outputId": "b50bf915-dc11-44a0-c6de-04bd1a210c4c"
   },
   "outputs": [
    {
     "data": {
      "text/plain": [
       "array([18. +0.00000000e+00j, -2.5+2.59807621e+00j, -1.5+2.59807621e+00j,\n",
       "       -4. -2.57175828e-15j, -1.5-2.59807621e+00j, -2.5-2.59807621e+00j])"
      ]
     },
     "execution_count": 69,
     "metadata": {},
     "output_type": "execute_result"
    }
   ],
   "source": [
    "dft([1, 2, 3, 4, 3, 5])"
   ]
  },
  {
   "cell_type": "code",
   "execution_count": null,
   "id": "mKCQMdsrFrAH",
   "metadata": {
    "id": "mKCQMdsrFrAH",
    "outputId": "2aa5e0a8-5761-4a1c-f461-e6eb16661f69"
   },
   "outputs": [
    {
     "data": {
      "text/plain": [
       "array([18. +0.00000000e+00j, -2.5+2.59807621e+00j, -1.5+2.59807621e+00j,\n",
       "       -4. -2.22044605e-16j, -1.5-2.59807621e+00j, -2.5-2.59807621e+00j])"
      ]
     },
     "execution_count": 70,
     "metadata": {},
     "output_type": "execute_result"
    }
   ],
   "source": [
    "np.fft.fft(np.array([1, 2, 3, 4, 3, 5]))"
   ]
  },
  {
   "cell_type": "markdown",
   "id": "jEFgi91jFrAH",
   "metadata": {
    "id": "jEFgi91jFrAH"
   },
   "source": [
    "Question 2 Part 2"
   ]
  },
  {
   "cell_type": "code",
   "execution_count": null,
   "id": "1bKZWKCpFrAH",
   "metadata": {
    "id": "1bKZWKCpFrAH",
    "outputId": "1351a2f4-0621-47f8-a054-4f1c18345e98"
   },
   "outputs": [
    {
     "name": "stdout",
     "output_type": "stream",
     "text": [
      "[1, 2, 3, 4, 5]\n"
     ]
    },
    {
     "data": {
      "text/plain": [
       "array([-3.14159265, -2.98451302, -2.82743339, -2.67035376, -2.51327412,\n",
       "       -2.35619449, -2.19911486, -2.04203522, -1.88495559, -1.72787596,\n",
       "       -1.57079633, -1.41371669, -1.25663706, -1.09955743, -0.9424778 ,\n",
       "       -0.78539816, -0.62831853, -0.4712389 , -0.31415927, -0.15707963,\n",
       "        0.        ,  0.15707963,  0.31415927,  0.4712389 ,  0.62831853,\n",
       "        0.78539816,  0.9424778 ,  1.09955743,  1.25663706,  1.41371669,\n",
       "        1.57079633,  1.72787596,  1.88495559,  2.04203522,  2.19911486,\n",
       "        2.35619449,  2.51327412,  2.67035376,  2.82743339,  2.98451302])"
      ]
     },
     "execution_count": 71,
     "metadata": {},
     "output_type": "execute_result"
    }
   ],
   "source": [
    "nf = 40 #Frequency points\n",
    "\n",
    "w_start = -math.pi\n",
    "w_end = math.pi\n",
    "\n",
    "x=[1, 2, 3, 4, 5]\n",
    "n = x.__len__()\n",
    "\n",
    "print(x)\n",
    "freqPts = np.arange(w_start, w_end, (w_end - w_start)/nf)\n",
    "freqPts\n"
   ]
  },
  {
   "cell_type": "code",
   "execution_count": null,
   "id": "dVkigU63FrAI",
   "metadata": {
    "id": "dVkigU63FrAI"
   },
   "outputs": [],
   "source": [
    "w = np.linspace(0, 2 * w_end, n)\n",
    "X1 = dtft(x, w)\n",
    "X2 = dtft(x, freqPts)"
   ]
  },
  {
   "cell_type": "code",
   "execution_count": null,
   "id": "zBy3CwnCFrAI",
   "metadata": {
    "id": "zBy3CwnCFrAI",
    "outputId": "5de79355-2ca1-47e0-ab54-23df33f2a746"
   },
   "outputs": [
    {
     "ename": "",
     "evalue": "",
     "output_type": "error",
     "traceback": [
      "\u001b[1;31mRunning cells with 'c:\\Python311\\python.exe' requires ipykernel package.\n",
      "\u001b[1;31mRun the following command to install 'ipykernel' into the Python environment. \n",
      "\u001b[1;31mCommand: 'c:/Python311/python.exe -m pip install ipykernel -U --user --force-reinstall'"
     ]
    }
   ],
   "source": [
    "plt.figure(1)\n",
    "\n",
    "# plt.subplot(2,1,1)\n",
    "plt.stem(w, magnitude(X1))\n",
    "plt.xlabel('$\\omega$')\n",
    "plt.ylabel('$|X(e^{j\\omega})|$')\n",
    "\n",
    "# plt.subplot(2,1,2)\n",
    "plt.plot(freqPts,magnitude(X2))\n",
    "plt.xlabel('$\\omega$')\n",
    "plt.ylabel('$|X(e^{j\\omega})|$')\n",
    "\n",
    "plt.show()\n"
   ]
  },
  {
   "cell_type": "code",
   "execution_count": null,
   "id": "nqBE_CM0FrAI",
   "metadata": {
    "id": "nqBE_CM0FrAI",
    "outputId": "81f14ebd-d403-405f-ce52-087655c86a23"
   },
   "outputs": [
    {
     "data": {
      "image/png": "[encoded data removed]",
      "text/plain": [
       "<Figure size 432x288 with 2 Axes>"
      ]
     },
     "metadata": {
      "needs_background": "light"
     },
     "output_type": "display_data"
    }
   ],
   "source": [
    "plt.figure(1)\n",
    "plt.subplot(2,1,1)\n",
    "plt.plot(freqPts,magnitude(X2))\n",
    "plt.xlabel('$\\omega$')\n",
    "plt.ylabel('$|X(e^{j\\omega})|$')\n",
    "plt.grid()\n",
    "\n",
    "plt.figure(1)\n",
    "plt.subplot(2,1,2)\n",
    "plt.plot(freqPts,phase(X2))\n",
    "plt.xlabel('$\\omega$')\n",
    "plt.ylabel('$Phase X(e^{j\\omega})|$')\n",
    "plt.grid()"
   ]
  },
  {
   "cell_type": "code",
   "execution_count": null,
   "id": "Zwn5AWuvFrAI",
   "metadata": {
    "id": "Zwn5AWuvFrAI"
   },
   "outputs": [],
   "source": []
  }
 ],
 "metadata": {
  "colab": {
   "provenance": []
  },
  "kernelspec": {
   "display_name": "Python 3 (ipykernel)",
   "language": "python",
   "name": "python3"
  },
  "language_info": {
   "codemirror_mode": {
    "name": "ipython",
    "version": 3
   },
   "file_extension": ".py",
   "mimetype": "text/x-python",
   "name": "python",
   "nbconvert_exporter": "python",
   "pygments_lexer": "ipython3",
   "version": "3.9.6"
  },
  "vscode": {
   "interpreter": {
    "hash": "c261aea317cc0286b3b3261fbba9abdec21eaa57589985bb7a274bf54d6cc0a7"
   }
  }
 },
 "nbformat": 4,
 "nbformat_minor": 5
}
